{
 "cells": [
  {
   "cell_type": "markdown",
   "metadata": {},
   "source": [
    "# San Francisco Housing Cost Analysis"
   ]
  },
  {
   "cell_type": "code",
   "execution_count": null,
   "metadata": {},
   "outputs": [],
   "source": [
    "# imports\n",
    "import panel as pn\n",
    "pn.extension('plotly')\n",
    "import plotly.express as px\n",
    "import pandas as pd\n",
    "import hvplot.pandas\n",
    "import matplotlib.pyplot as plt\n",
    "import numpy as np\n",
    "import os\n",
    "from pathlib import Path\n",
    "from dotenv import load_dotenv\n",
    "\n",
    "import warnings\n",
    "warnings.filterwarnings('ignore')"
   ]
  },
  {
   "cell_type": "code",
   "execution_count": null,
   "metadata": {},
   "outputs": [],
   "source": [
    "# Read the Mapbox API key\n",
    "load_dotenv()\n",
    "map_box_api=os.getenv('mapbox')"
   ]
  },
  {
   "cell_type": "markdown",
   "metadata": {},
   "source": [
    "## Load Data"
   ]
  },
  {
   "cell_type": "code",
   "execution_count": null,
   "metadata": {},
   "outputs": [],
   "source": [
    "# Read the census data into a Pandas DataFrame with year as the index\n",
    "file_path=Path('Data/sfo_neighborhoods_census_data.csv')\n",
    "sfo_data_year_index=pd.read_csv(file_path,index_col='year')\n",
    "sfo_data_year_index.head()"
   ]
  },
  {
   "cell_type": "markdown",
   "metadata": {},
   "source": [
    "## Housing Units Per Year\n",
    "In this section, you will calculate the number of housing units per year and visualize the results as a bar chart using the Pandas plot function.\n",
    "**Hint:** Use the Pandas `groupby` function.\n",
    "**Optional challenge:** Use the min, max, and std to scale the y limits of the chart."
   ]
  },
  {
   "cell_type": "code",
   "execution_count": null,
   "metadata": {},
   "outputs": [],
   "source": [
    "# Calculate the mean number of housing units per year (hint: use groupby)\n",
    "housing_units_per_year=sfo_data_year_index.groupby('year').mean().drop(columns=['sale_price_sqr_foot','gross_rent'])\n",
    "housing_units_per_year"
   ]
  },
  {
   "cell_type": "code",
   "execution_count": null,
   "metadata": {},
   "outputs": [],
   "source": [
    "# Save the dataframe as a csv file\n",
    "housing_units_per_year.to_csv(r'avg_units_by_year.csv',index=True)  "
   ]
  },
  {
   "cell_type": "code",
   "execution_count": null,
   "metadata": {},
   "outputs": [],
   "source": [
    "# Use Pandas plot function to plot the average housing units per year.\n",
    "### Note: You will need to manually adjust the y limit of the chart using the min and max values from above.\n",
    "housing_units_per_year.plot(kind='bar',\n",
    "                           ylim=(370000,385000),\n",
    "                           legend=False,\n",
    "                           title='Housing Units in San Francisco from 2010 to 2016'\n",
    "                          )\n",
    "# Optional - Use min, max, and std to scale the y limits of the chart\n"
   ]
  },
  {
   "cell_type": "markdown",
   "metadata": {},
   "source": [
    "- - - "
   ]
  },
  {
   "cell_type": "markdown",
   "metadata": {},
   "source": [
    "## Average Housing Costs in San Francisco Per Year\n",
    "\n",
    "In this section, you will calculate the average monthly rent and the average price per square foot for each year. An investor may wish to better understand the sales price of the rental property over time. For example, a customer will want to know if they should expect an increase or decrease in the property value over time so they can determine how long to hold the rental property.  Plot the results as two line charts.\n",
    "\n",
    "**Optional challenge:** Plot each line chart in a different color."
   ]
  },
  {
   "cell_type": "code",
   "execution_count": null,
   "metadata": {},
   "outputs": [],
   "source": [
    "# Calculate the average sale price per square foot and average gross rent\n",
    "avg_price_sqft_rent=sfo_data_year_index.groupby('year').mean().drop(columns=['housing_units'])\n",
    "display(avg_price_sqft_rent)"
   ]
  },
  {
   "cell_type": "code",
   "execution_count": null,
   "metadata": {},
   "outputs": [],
   "source": [
    "# Create two line charts, one to plot the average sale price per square foot and another for average montly rent\n",
    "## Line chart for average sale price per square foot\n",
    "avg_price_sqr_foot=pd.DataFrame(avg_price_sqft_rent,columns=['sale_price_sqr_foot'])\n",
    "avg_price_sqr_foot.plot(\n",
    "    legend=False,\n",
    "    color='purple',\n",
    "    title ='Average Price per SqFt by Year'\n",
    ")\n",
    "## Line chart for average montly rent\n",
    "avg_rent=pd.DataFrame(avg_price_sqft_rent,columns=['gross_rent'])\n",
    "avg_rent.plot(\n",
    "    legend=False,\n",
    "    color='red',\n",
    "    title='Average Gross Rent by Year'\n",
    ")"
   ]
  },
  {
   "cell_type": "markdown",
   "metadata": {},
   "source": [
    "- - - "
   ]
  },
  {
   "cell_type": "markdown",
   "metadata": {},
   "source": [
    "## Average Prices by Neighborhood\n",
    "\n",
    "In this section, you will use hvplot to create two interactive visulizations of average prices with a dropdown selector for the neighborhood. The first visualization will be a line plot showing the trend of average price per square foot over time for each neighborhood.  The second will be a line plot showing the trend of average monthly rent over time for each neighborhood.\n",
    "\n",
    "**Hint:** It will be easier to create a new DataFrame from grouping the data and calculating the mean prices for each year and neighborhood"
   ]
  },
  {
   "cell_type": "code",
   "execution_count": null,
   "metadata": {},
   "outputs": [],
   "source": [
    "## Read the census data into a Pandas DataFrame without year as the index\n",
    "sfo_data=pd.read_csv(file_path)\n",
    "# Group by year and neighborhood and new dataframe with mean values\n",
    "grp_year_neighborhoods=sfo_data.groupby(['year','neighborhood'],as_index=False).mean()\n",
    "### Print San Francisco census dataframe without year index ###\n",
    "sfo_data.head(10)"
   ]
  },
  {
   "cell_type": "code",
   "execution_count": null,
   "metadata": {},
   "outputs": [],
   "source": [
    "## Use hvplot to create an interactive line chart of the average price per sq ft.\n",
    "# The plot should have a dropdown selector for the neighborhood\n",
    "grp_year_neighborhoods.hvplot(\n",
    "    x='year',\n",
    "    y='sale_price_sqr_foot',\n",
    "    xlabel='Year',\n",
    "    ylabel='Avg Sale Price per Square Foot',\n",
    "    groupby='neighborhood'\n",
    ")"
   ]
  },
  {
   "cell_type": "code",
   "execution_count": null,
   "metadata": {},
   "outputs": [],
   "source": [
    "# Use hvplot to create an interactive line chart of the average monthly rent.\n",
    "# The plot should have a dropdown selector for the neighborhood\n",
    "grp_year_neighborhoods.hvplot(\n",
    "    x='year',\n",
    "    y='gross_rent',\n",
    "    xlabel='Year',\n",
    "    ylabel='Avg Monthly Rent',\n",
    "    groupby='neighborhood'\n",
    ")"
   ]
  },
  {
   "cell_type": "markdown",
   "metadata": {},
   "source": [
    "## The Top 10 Most Expensive Neighborhoods\n",
    "\n",
    "In this section, you will need to calculate the mean sale price per square foot for each neighborhood and then sort the values to obtain the top 10 most expensive neighborhoods on average. Plot the results as a bar chart."
   ]
  },
  {
   "cell_type": "code",
   "execution_count": null,
   "metadata": {},
   "outputs": [],
   "source": [
    "# Getting the data from the top 10 expensive neighborhoods to own\n",
    "top10_exp_hoods=sfo_data.groupby(['neighborhood'],as_index=False).mean().nlargest(10,'sale_price_sqr_foot').drop(columns='year')\n",
    "# top10_exp_hoods=top10_exp_hoods.drop\n",
    "top10_exp_hoods"
   ]
  },
  {
   "cell_type": "code",
   "execution_count": null,
   "metadata": {},
   "outputs": [],
   "source": [
    "# Plotting the data from the top 10 expensive neighborhoods\n",
    "top10_exp_hoods.hvplot.bar(\n",
    "    x='neighborhood',\n",
    "    y='sale_price_sqr_foot',\n",
    "    xlabel='Neighborhood',\n",
    "    ylabel='Avg Sale Price Per Square Foot',\n",
    "    legend=False,\n",
    "    rot=90,\n",
    "    title='Top 10 Most Expensive Neighborhoods in San Francisco',\n",
    "    width=1000,\n",
    "    height=500,\n",
    ")"
   ]
  },
  {
   "cell_type": "markdown",
   "metadata": {},
   "source": [
    "- - - "
   ]
  },
  {
   "cell_type": "markdown",
   "metadata": {},
   "source": [
    "## Comparing cost to purchase versus rental income\n",
    "\n",
    "In this section, you will use `hvplot` to create an interactive visualization with a dropdown selector for the neighborhood. This visualization will feature a side-by-side comparison of average price per square foot versus average montly rent by year.  \n",
    "\n",
    "**Hint:** Use the `hvplot` parameter, `groupby`, to create a dropdown selector for the neighborhood."
   ]
  },
  {
   "cell_type": "code",
   "execution_count": null,
   "metadata": {},
   "outputs": [],
   "source": [
    "# Fetch the previously generated DataFrame that was grouped by year and neighborhood\n",
    "grp_year_neighborhoods.head(10)"
   ]
  },
  {
   "cell_type": "code",
   "execution_count": null,
   "metadata": {},
   "outputs": [],
   "source": [
    "# Plotting the data from the top 10 expensive neighborhoods\n",
    "grp_year_neighborhoods.hvplot.bar(\n",
    "    x='year',\n",
    "    y=['gross_rent','sale_price_sqr_foot'],\n",
    "    xlabel='Neighborhood',\n",
    "    ylabel='Values',\n",
    "    legend=False,\n",
    "    rot=90,\n",
    "    height=500,\n",
    "    groupby='neighborhood',\n",
    "    title='Rent and Price Per Square Foot in Each Neighborhood Per Year',\n",
    "    width=1000,\n",
    ")"
   ]
  },
  {
   "cell_type": "markdown",
   "metadata": {},
   "source": [
    "- - - "
   ]
  },
  {
   "cell_type": "markdown",
   "metadata": {},
   "source": [
    "## Neighborhood Map\n",
    "\n",
    "In this section, you will read in neighborhoods location data and build an interactive map with the average house value per neighborhood. Use a `scatter_mapbox` from Plotly express to create the visualization. Remember, you will need your Mapbox API key for this."
   ]
  },
  {
   "cell_type": "markdown",
   "metadata": {},
   "source": [
    "### Load Location Data"
   ]
  },
  {
   "cell_type": "code",
   "execution_count": null,
   "metadata": {},
   "outputs": [],
   "source": [
    "# Load neighborhoods coordinates data\n",
    "coordinates_df=pd.read_csv(Path('Data/neighborhoods_coordinates.csv'))\n",
    "coordinates_df.head()"
   ]
  },
  {
   "cell_type": "markdown",
   "metadata": {},
   "source": [
    "### Data Preparation\n",
    "\n",
    "You will need to join the location data with the mean values per neighborhood.\n",
    "\n",
    "1. Calculate the mean values for each neighborhood.\n",
    "\n",
    "2. Join the average values with the neighborhood locations."
   ]
  },
  {
   "cell_type": "code",
   "execution_count": null,
   "metadata": {},
   "outputs": [],
   "source": [
    "# Calculate the mean values for each neighborhood\n",
    "hood_value_df=sfo_data.drop(columns=['year']).rename(columns={'neighborhood':'Neighborhood'}).groupby(['Neighborhood']).mean()\n",
    "hood_value_df.head()"
   ]
  },
  {
   "cell_type": "code",
   "execution_count": null,
   "metadata": {},
   "outputs": [],
   "source": [
    "# Join the average values with the neighborhood locations\n",
    "hood_location_values_df=pd.merge(coordinates_df,hood_value_df,on='Neighborhood')\n",
    "hood_location_values_df.head()"
   ]
  },
  {
   "cell_type": "markdown",
   "metadata": {},
   "source": [
    "### Mapbox Visualization\n",
    "\n",
    "Plot the average values per neighborhood using a Plotly express `scatter_mapbox` visualization."
   ]
  },
  {
   "cell_type": "code",
   "execution_count": null,
   "metadata": {},
   "outputs": [],
   "source": [
    "# Set the mapbox access token\n",
    "px.set_mapbox_access_token(map_box_api)\n",
    "# Create a scatter mapbox to analyze neighborhood info\n",
    "hood_location_values=px.scatter_mapbox(\n",
    "    hood_location_values_df,\n",
    "    lat='Lat',\n",
    "    lon='Lon',\n",
    "    color='gross_rent',\n",
    "    color_continuous_scale=px.colors.cyclical.IceFire,\n",
    "    title='Average Sale Price Per Square Foot and Gross Rent In San Francisco',\n",
    "    size='sale_price_sqr_foot',\n",
    "    zoom=10,\n",
    "    width=1000,\n",
    "    height=600\n",
    ")\n",
    "hood_location_values.show()"
   ]
  },
  {
   "cell_type": "markdown",
   "metadata": {},
   "source": [
    "## Cost Analysis - Optional Challenge\n",
    "\n",
    "In this section, you will use Plotly express to create visualizations that investors can use to interactively filter and explore various factors related to the house value of the San Francisco's neighborhoods. \n",
    "\n",
    "### Create a DataFrame showing the most expensive neighborhoods in San Francisco by year"
   ]
  },
  {
   "cell_type": "code",
   "execution_count": null,
   "metadata": {},
   "outputs": [],
   "source": [
    "# Fetch the data from all expensive neighborhoods per year.\n",
    "most_exp_hoods_per_year=grp_year_neighborhoods[grp_year_neighborhoods['neighborhood'].isin(top10_exp_hoods['neighborhood'])]\n",
    "most_exp_hoods_per_year.head()"
   ]
  },
  {
   "cell_type": "markdown",
   "metadata": {},
   "source": [
    "### Create a parallel coordinates plot and parallel categories plot of most expensive neighborhoods in San Francisco per year\n"
   ]
  },
  {
   "cell_type": "code",
   "execution_count": null,
   "metadata": {},
   "outputs": [],
   "source": [
    "# Parallel Categories Plot\n",
    "px.parallel_categories(\n",
    "    top10_exp_hoods,\n",
    "    color='sale_price_sqr_foot',\n",
    "    color_continuous_scale=px.colors.sequential.Inferno,\n",
    "    dimensions=['neighborhood','sale_price_sqr_foot','housing_units','gross_rent'],\n",
    "    labels={'neighborhood':'Neighborhood','sale_price_sqr_foot':'Sale Price per Square Foot','housing_units':'Housing Units','gross_rent':'Gross Rent'},\n",
    "    width=1000,\n",
    ")"
   ]
  },
  {
   "cell_type": "code",
   "execution_count": null,
   "metadata": {},
   "outputs": [],
   "source": [
    "# Parallel Coordinates Plot\n",
    "px.parallel_coordinates(\n",
    "    top10_exp_hoods,\n",
    "    color=\"sale_price_sqr_foot\",\n",
    "    color_continuous_scale=px.colors.sequential.Inferno,\n",
    "    dimensions=['sale_price_sqr_foot','housing_units','gross_rent'],\n",
    "    labels={'sale_price_sqr_foot':'Sale Price per Square Foot','housing_units':'Housing Units','gross_rent':'Gross Rent'},\n",
    "    width=1000,\n",
    ") "
   ]
  },
  {
   "cell_type": "markdown",
   "metadata": {},
   "source": [
    "### Create a sunburst chart to conduct a costs analysis of most expensive neighborhoods in San Francisco per year"
   ]
  },
  {
   "cell_type": "code",
   "execution_count": null,
   "metadata": {},
   "outputs": [],
   "source": [
    "# Sunburst Plot\n",
    "px.sunburst(\n",
    "    most_exp_hoods_per_year,\n",
    "    path=['year','neighborhood'],\n",
    "    color='gross_rent',\n",
    "    color_continuous_scale=px.colors.sequential.Blues,\n",
    "    values='sale_price_sqr_foot',\n",
    "    width=1000,\n",
    "    height=1000\n",
    "    )"
   ]
  }
 ],
 "metadata": {
  "file_extension": ".py",
  "kernelspec": {
   "display_name": "Python [conda env:pyvizenv]",
   "language": "python",
   "name": "conda-env-pyvizenv-py"
  },
  "language_info": {
   "codemirror_mode": {
    "name": "ipython",
    "version": 3
   },
   "file_extension": ".py",
   "mimetype": "text/x-python",
   "name": "python",
   "nbconvert_exporter": "python",
   "pygments_lexer": "ipython3",
   "version": "3.8.5"
  },
  "mimetype": "text/x-python",
  "name": "python",
  "npconvert_exporter": "python",
  "pygments_lexer": "ipython3",
  "version": 3
 },
 "nbformat": 4,
 "nbformat_minor": 4
}
